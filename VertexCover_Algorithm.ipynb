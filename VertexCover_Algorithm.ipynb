{
  "nbformat": 4,
  "nbformat_minor": 0,
  "metadata": {
    "colab": {
      "provenance": [],
      "authorship_tag": "ABX9TyPuDlYk3WRoHvPgd/7sorag",
      "include_colab_link": true
    },
    "kernelspec": {
      "name": "python3",
      "display_name": "Python 3"
    },
    "language_info": {
      "name": "python"
    }
  },
  "cells": [
    {
      "cell_type": "markdown",
      "metadata": {
        "id": "view-in-github",
        "colab_type": "text"
      },
      "source": [
        "<a href=\"https://colab.research.google.com/github/moein-monemi/ApproximationAlgorithmForVertexCover/blob/main/VertexCover_Algorithm.ipynb\" target=\"_parent\"><img src=\"https://colab.research.google.com/assets/colab-badge.svg\" alt=\"Open In Colab\"/></a>"
      ]
    },
    {
      "cell_type": "code",
      "execution_count": null,
      "metadata": {
        "colab": {
          "base_uri": "https://localhost:8080/"
        },
        "id": "aP1HhyiXlgbs",
        "outputId": "8360d0a4-a3bc-413b-90eb-3c705ba79fa2"
      },
      "outputs": [
        {
          "output_type": "stream",
          "name": "stdout",
          "text": [
            "{1, 2, 4, 5}\n"
          ]
        }
      ],
      "source": [
        "from IPython.testing import IPYTHON_TESTING_TIMEOUT_SCALE\n",
        "from collections import defaultdict\n",
        "import random\n",
        "\n",
        "class Graph:\n",
        "\n",
        "    def __init__(self, vertices):\n",
        "        self.V = vertices\n",
        "        self.Cover = set()\n",
        "        self.graph = defaultdict(list)\n",
        "        self.E = list()\n",
        "\n",
        "    def addEdge(self, u, v):\n",
        "        self.graph[u].append(v)\n",
        "        self.E.append((u, v))\n",
        "\n",
        "    def findVertexCover(self):\n",
        "      # repeat until the set E is empty\n",
        "      while len(self.E) > 0:\n",
        "        # choose random edge u, v from F\n",
        "        rE = random.randint(0, len(self.E)-1)\n",
        "\n",
        "        # add U & V in vertex cover set\n",
        "        cEdge = self.E[rE]\n",
        "        self.Cover.add(cEdge[0])\n",
        "        self.Cover.add(cEdge[1])\n",
        "\n",
        "      # remove chooses edge from Edge list & remove all vertices adjacent to u & v\n",
        "        self.E.pop(rE)\n",
        "        for key, value in self.graph.items():\n",
        "          for node in value:\n",
        "            if (key, cEdge[0]) in self.E:\n",
        "              self.E.remove((key, cEdge[0]))\n",
        "\n",
        "            if (cEdge[0], node) in self.E:\n",
        "              self.E.remove((cEdge[0], node))\n",
        "\n",
        "            if (key, cEdge[1]) in self.E:\n",
        "              self.E.remove((key, cEdge[1]))\n",
        "\n",
        "            if (cEdge[1], node) in self.E:\n",
        "              self.E.remove((cEdge[1], node))\n",
        "\n",
        "      return self.Cover\n",
        "\n",
        "\n",
        "g = Graph(3)\n",
        "g.addEdge(0, 1)\n",
        "g.addEdge(1, 2)\n",
        "g.addEdge(2, 3)\n",
        "g.addEdge(3, 4)\n",
        "g.addEdge(0, 5)\n",
        "g.addEdge(1, 5)\n",
        "g.addEdge(5, 2)\n",
        "g.addEdge(5, 3)\n",
        "g.addEdge(5, 4)\n",
        "\n",
        "print(g.findVertexCover())"
      ]
    }
  ]
}